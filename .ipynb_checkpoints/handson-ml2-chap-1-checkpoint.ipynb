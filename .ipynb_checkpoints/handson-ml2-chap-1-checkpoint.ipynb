{
 "cells": [
  {
   "cell_type": "markdown",
   "metadata": {},
   "source": [
    "# Hands-On-Machine-Learning-with-Scikit-Learn-Keras-and-Tensorflow\n",
    "\n",
    "## Chapter 1"
   ]
  },
  {
   "cell_type": "markdown",
   "metadata": {},
   "source": [
    "### Machine Learning"
   ]
  },
  {
   "cell_type": "markdown",
   "metadata": {},
   "source": [
    "The science and art of programming computers so they can *learn from data*."
   ]
  },
  {
   "cell_type": "markdown",
   "metadata": {},
   "source": [
    "For example, our email spam filter is a ML program that can learn to flag a given list of emails into spam and not spam emails. The examples that the system uses to learn are called the *training set* and the examples on which the system applies the ML model are called the *test set*. Each training example is called, *training instance*. Performance is measured by the ratio of correctly classified emails to the whole set and the performance measure is known as *accuracy*."
   ]
  },
  {
   "cell_type": "markdown",
   "metadata": {},
   "source": [
    "Applying ML techniques to dig into large amounts of data can help discover patterns\n",
    "that were not immediately apparent. This is called *data mining*."
   ]
  },
  {
   "cell_type": "markdown",
   "metadata": {},
   "source": [
    "### Types of Machine Learning\n",
    "\n",
    "- Whether they are trained with human supervision or not (supervised, unsupervised, semisupervised and Reinforcement Learning)\n",
    "- Whether they can learn incrementally on the fly (online versus batch learning)\n",
    "- Whether they work by simply comparing new data points to known data points, or instead detect patterns in the training data and build a predictive model, much like scientists do (instance-based versus model-based learning)\n"
   ]
  },
  {
   "cell_type": "markdown",
   "metadata": {},
   "source": [
    "#### Supervised/Unsupervised Learning\n",
    "\n",
    "In supervised learning, the training data you feed to the algorithm includes the desired solutions, called labels. A typical supervised learning task is classification. The spam filter is a good example of this: it is trained with many example emails along with their class (spam or ham), and it must learn how to classify new emails.\n",
    "\n",
    "Some supervised learning algorithms : \n",
    "- k-Nearest Neighbors\n",
    "- Linear Regression\n",
    "- Logistic Regression\n",
    "- Support Vector Machines (SVMs)\n",
    "- Decision Trees and Random Forests\n",
    "- Neural networks\n",
    "\n",
    "In unsupervised learning, as you might guess, the training data is unlabeled. The system tries to learn without a teacher.\n",
    "\n",
    "Some unsupervised learning algorithms : \n",
    "\n",
    "- Clustering\n",
    " - K-Means\n",
    " - DBSCAN\n",
    " - Hierarchical Cluster Analysis (HCA)\n",
    "- Anomaly detection and novelty detection\n",
    " - One-class SVM\n",
    " - Isolation Forest\n",
    "- Visualization and dimensionality reduction\n",
    " - Principal Component Analysis (PCA)\n",
    " - Kernel PCA\n",
    " - Locally-Linear Embedding (LLE)\n",
    " - t-distributed Stochastic Neighbor Embedding (t-SNE)\n",
    "- Association rule learning\n",
    " - Apriori\n",
    " - Eclat"
   ]
  },
  {
   "cell_type": "markdown",
   "metadata": {},
   "source": [
    "**Clustering** techniques are used in cases for example, if you have a lot of data about your blog's visitors. You run a clustering algorithm to try to detect groups of similar visitors and at no point **you tell** the algorithm that which group a visitor belongs to: it finds it without our help."
   ]
  },
  {
   "cell_type": "markdown",
   "metadata": {},
   "source": [
    "**Visualization algo**: You feed them a lot of complex and unlabeled data and they output 2D/3D representation of your data. It can help in identifying unsuspected patterns. A related task is **dimensionality reduction**, in which we simply data without losing too much information. e.g., A car's milegage may be correlated with its age, so the **dimensionality reduction** algorithm will merge them into one feature that represents its wear and teae. This is called **feature extraction**\n",
    "\n",
    "**NOTE** :  *It is often a good idea to try to reduce the dimension of your training data using a dimensionality reduction algorithm before you feed it to another Machine Learning algorithm (such as a supervised learning algorithm). It will run much faster, the data will take up less disk and memory space, and in some cases it may also perform better.*"
   ]
  },
  {
   "cell_type": "markdown",
   "metadata": {},
   "source": [
    "**Anomaly Detection** is another type of unsupervised learning - for example, detecting unusual credit card transactions to prevent fraud, catching manufacturing defects, or automatically removing outliers from a dataset before feeding it to another learning algorithm."
   ]
  },
  {
   "cell_type": "markdown",
   "metadata": {},
   "source": [
    "**Associated Rule Learning** is another common unsupervised task in which the goal is to dig into large amounts of data and discover interesting relations between attributes.For example, suppose you own a supermarket. Running an association rule on your sales logs may reveal that people who purchase barbecue sauce and potato chips also tend to buy steak. Thus, you may want to place these items close to each other.\n"
   ]
  },
  {
   "cell_type": "markdown",
   "metadata": {},
   "source": [
    "#### Semisupervised Learning\n",
    "\n",
    "Some algorithms can deal with partially labeled training data, usually a lot of unlabeled data and a little bit of labeled data. This is called semisupervised learning. Google Photos is a good example of this. \n",
    "\n",
    "Most semisupervised learning algorithms are combinations of unsupervised and supervised algorithms. For example, deep belief networks (DBNs) are based on unsupervised components called restricted Boltzmann machines (RBMs) stacked on top of one another. RBMs are trained sequentially in an unsupervised manner, and then the whole system is fine-tuned using supervised learning techniques."
   ]
  },
  {
   "cell_type": "markdown",
   "metadata": {},
   "source": [
    "#### Reinforcement Learning\n",
    "\n",
    "The learning system, called an agent\n",
    "in this context, can observe the environment, select and perform actions, and get rewards in return (or penalties in the form of negative rewards). It must then learn by itself what is the best strategy, called a policy, to get the most reward over time. A policy defines what action the agent should choose when it is in a given situation. For example, many robots implement Reinforcement Learning algorithms to learn\n",
    "how to walk."
   ]
  },
  {
   "cell_type": "markdown",
   "metadata": {},
   "source": [
    "#### Batch and Online Learning"
   ]
  }
 ],
 "metadata": {
  "kernelspec": {
   "display_name": "Python 3",
   "language": "python",
   "name": "python3"
  },
  "language_info": {
   "codemirror_mode": {
    "name": "ipython",
    "version": 3
   },
   "file_extension": ".py",
   "mimetype": "text/x-python",
   "name": "python",
   "nbconvert_exporter": "python",
   "pygments_lexer": "ipython3",
   "version": "3.7.7"
  }
 },
 "nbformat": 4,
 "nbformat_minor": 4
}
