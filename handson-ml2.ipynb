{
 "cells": [
  {
   "cell_type": "markdown",
   "metadata": {},
   "source": [
    "# Hands-On-Machine-Learning-with-Scikit-Learn-Keras-and-Tensorflow"
   ]
  },
  {
   "cell_type": "markdown",
   "metadata": {},
   "source": [
    "### Machine Learning"
   ]
  },
  {
   "cell_type": "markdown",
   "metadata": {},
   "source": [
    "The science and art of programming computers so they can *learn from data*."
   ]
  },
  {
   "cell_type": "markdown",
   "metadata": {},
   "source": [
    "For example, our email spam filter is a ML program that can learn to flag a given list of emails into spam and not spam emails. The examples that the system uses to learn are called the *training set* and the examples on which the system applies the ML model are called the *test set*. Each training example is called, *training instance*. Performance is measured by the ratio of correctly classified emails to the whole set and the performance measure is known as *accuracy*."
   ]
  },
  {
   "cell_type": "markdown",
   "metadata": {},
   "source": [
    "Applying ML techniques to dig into large amounts of data can help discover patterns\n",
    "that were not immediately apparent. This is called *data mining*."
   ]
  },
  {
   "cell_type": "markdown",
   "metadata": {},
   "source": [
    "### Types of Machine Learning\n",
    "\n",
    "- Whether they are trained with human supervision or not (supervised, unsupervised, semisupervised and Reinforcement Learning)\n",
    "- Whether they can learn incrementally on the fly (online versus batch learning)\n",
    "- Whether they work by simply comparing new data points to known data points, or instead detect patterns in the training data and build a predictive model, much like scientists do (instance-based versus model-based learning)\n"
   ]
  },
  {
   "cell_type": "markdown",
   "metadata": {},
   "source": [
    "#### Supervised/Unsupervised Learning\n",
    "\n",
    "In supervised learning, the training data you feed to the algorithm includes the desired solutions, called labels. A typical supervised learning task is classification. The spam filter is a good example of this: it is trained with many example emails along with their class (spam or ham), and it must learn how to classify new emails.\n",
    "\n",
    "Some supervised learning algorithms : \n",
    "- k-Nearest Neighbors\n",
    "- Linear Regression\n",
    "- Logistic Regression\n",
    "- Support Vector Machines (SVMs)\n",
    "- Decision Trees and Random Forests\n",
    "- Neural networks\n",
    "\n",
    "In unsupervised learning, In unsupervised learning, as you might guess, the training data is unlabeled. The system tries to learn without a teacher.\n",
    "\n",
    "Some unsupervised learning algorithms : \n",
    "\n",
    "- Clustering\n",
    " - K-Means\n",
    " - DBSCAN\n",
    " - Hierarchical Cluster Analysis (HCA)\n",
    "- Anomaly detection and novelty detection\n",
    " - One-class SVM\n",
    " - Isolation Forest\n",
    "- Visualization and dimensionality reduction\n",
    " - Principal Component Analysis (PCA)\n",
    " - Kernel PCA\n",
    " - Locally-Linear Embedding (LLE)\n",
    " - t-distributed Stochastic Neighbor Embedding (t-SNE)\n",
    "- Association rule learning\n",
    " - Apriori\n",
    " - Eclat"
   ]
  },
  {
   "cell_type": "code",
   "execution_count": null,
   "metadata": {},
   "outputs": [],
   "source": []
  }
 ],
 "metadata": {
  "kernelspec": {
   "display_name": "Python 3",
   "language": "python",
   "name": "python3"
  },
  "language_info": {
   "codemirror_mode": {
    "name": "ipython",
    "version": 3
   },
   "file_extension": ".py",
   "mimetype": "text/x-python",
   "name": "python",
   "nbconvert_exporter": "python",
   "pygments_lexer": "ipython3",
   "version": "3.7.7"
  }
 },
 "nbformat": 4,
 "nbformat_minor": 4
}
